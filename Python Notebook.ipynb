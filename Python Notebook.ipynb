{
 "cells": [
  {
   "cell_type": "markdown",
   "id": "6b02d7b7",
   "metadata": {},
   "source": [
    "<img src=\"https://github.com/CorndelDataAnalyticsDiploma/workshop/blob/master/Corndel%20Digital%20Logo%20Centre.png?raw=true\" alt=\"Corndel\" width =\"301.5\" height=216>"
   ]
  },
  {
   "cell_type": "markdown",
   "id": "267c6a19",
   "metadata": {},
   "source": [
    "# Subeksha\n",
    "\n",
    "#### Welcome to the first workshop on Python!\n",
    "\n",
    "Note: Depending on your programming journey, a lot of this may seem new. My advice is:\n",
    "\n",
    "1. Don't panic.\n",
    "2. Read the code - then read the documentation. Google anything weird.\n",
    "3. Comment wherever you can to secure learning or question unknowns.\n",
    "4. Take. It. Slow. Remember the time frame.\n",
    "5. Persevere and revisit independently - treat this notebook like a reference and a starting point.\n",
    "\n",
    "<hr>"
   ]
  },
  {
   "cell_type": "markdown",
   "id": "cc5f69f9",
   "metadata": {},
   "source": [
    "<a id='Contents'></a>\n",
    "## Contents\n",
    "In this workshop, we will:<b>\n",
    "\n",
    "- [Explore Jupyter Notebook](#jupyter)\n",
    "- [Test out some code](#test)\n",
    "- [Error Debugging](#error)\n",
    "\n",
    "</b>"
   ]
  },
  {
   "cell_type": "markdown",
   "id": "6d86b486",
   "metadata": {},
   "source": [
    "<a id='jupyter'></a>\n",
    "\n",
    "## Explore Jupyter Notebook\n",
    "[Back to Contents](#Contents)\n",
    "\n",
    "\n",
    "Jupyter Notebooks are interactive computing environment that enables users to include:\n",
    "- live code\n",
    "- narrative text\n",
    "- plots\n",
    "- images\n",
    "- ...\n",
    "\n",
    "This makes it easy to build a complete and self-contained record of analysis, similar to a traditional lab notebook. It can be exported in various formats for publishing.\n",
    "\n",
    "Notebooks are broken up into `cell` that can be either `Code` or `Markdown`, a [simple rich text format](https://nbviewer.jupyter.org/github/jupyter/notebook/blob/master/docs/source/examples/Notebook/Working%20With%20Markdown%20Cells.ipynb). For example, this is a `Markdown cell`"
   ]
  },
  {
   "cell_type": "code",
   "execution_count": 1,
   "id": "7bfebdbc",
   "metadata": {},
   "outputs": [],
   "source": [
    "# and this is a Code cell\n",
    "#\n",
    "# In a Code cell, we can include live code, which you can run by pressing the Run button in the ribbon\n",
    "# or by pressing <Ctrl> + <Enter>"
   ]
  },
  {
   "cell_type": "markdown",
   "id": "01b72345",
   "metadata": {},
   "source": [
    "In the ribbon, you'll also see all the standard menu operations (`File`, `Edit`, `View`, `Insert`) where you can create new notebooks, save or open existing ones and download in various formats.\n",
    "\n",
    "You can also use the `+` button in the ribbon to add a new cell and the arrow buttons to rearrange existing cells. (*You can also press the keyboard icon at the far right of the toolbar.*)"
   ]
  },
  {
   "cell_type": "markdown",
   "id": "40331a5d",
   "metadata": {},
   "source": [
    "---\n",
    "\n",
    "<a id='test'></a>\n",
    "\n",
    "## Test out some code\n",
    "[Back to Contents](#Contents)\n",
    "\n",
    "\n",
    "When we worked with SQL, we had some pre-loaded data available to work with in the database tables. In python, there is no pre-loaded data, so in each notebook, we need to create our own data. We will see later how you can read data from a file, but for now, we define our variables manually.\n",
    "\n",
    "At any time, we can use the `%whos` magic command to list the variables available. *Explore some of the other magic commands [here](https://ipython.readthedocs.io/en/stable/interactive/magics.html)*."
   ]
  },
  {
   "cell_type": "code",
   "execution_count": 1,
   "id": "34819545",
   "metadata": {},
   "outputs": [],
   "source": [
    "# Define a variable x with a value of 7\n",
    "\n",
    "x = 7 # The plus sign assigns x the value of 7"
   ]
  },
  {
   "cell_type": "code",
   "execution_count": 2,
   "id": "a63fff24",
   "metadata": {},
   "outputs": [],
   "source": [
    "# Define a variable y with a value of 'Green'\n",
    "\n",
    "y = 'Green'"
   ]
  },
  {
   "cell_type": "code",
   "execution_count": 3,
   "id": "869b43c1",
   "metadata": {},
   "outputs": [
    {
     "name": "stdout",
     "output_type": "stream",
     "text": [
      "Variable   Type    Data/Info\n",
      "----------------------------\n",
      "x          int     7\n",
      "y          str     Green\n"
     ]
    }
   ],
   "source": [
    "# List the existing variables with the %whos magic command\n",
    "# Extension: What other magic commands are available?\n",
    "\n",
    "%whos"
   ]
  },
  {
   "cell_type": "code",
   "execution_count": 4,
   "id": "4cec0c1e",
   "metadata": {},
   "outputs": [],
   "source": [
    "# The order that we run the cells matters! (Not the order of the cells on the page.)\n",
    "# Define a variable z with a value of 3.14\n",
    "\n",
    "z = 3.14"
   ]
  },
  {
   "cell_type": "code",
   "execution_count": 5,
   "id": "ac92fc37",
   "metadata": {},
   "outputs": [
    {
     "data": {
      "text/plain": [
       "float"
      ]
     },
     "execution_count": 5,
     "metadata": {},
     "output_type": "execute_result"
    }
   ],
   "source": [
    "type(z)"
   ]
  },
  {
   "cell_type": "markdown",
   "id": "01ea7d28",
   "metadata": {},
   "source": [
    "What do you think will happen when we re-run the `%whos` cell above? Will it now only list `x` and `y`, or will it also include `z`?\n",
    "\n",
    "Try it and see if you were right!"
   ]
  },
  {
   "cell_type": "markdown",
   "id": "ebe89d59",
   "metadata": {},
   "source": [
    "<div class=\"alert alert-block alert-info\">\n",
    "<b>Research Task:</b> <ul>\n",
    "<li> Why did this happen?\n",
    "<li> What determines the order of execution in python?\n",
    "</ul></div>"
   ]
  },
  {
   "cell_type": "markdown",
   "id": "d9f8d259",
   "metadata": {},
   "source": [
    "Just like in SQL, there are functions available that we can call. In the example below, we use the `print()` function to print the value of `x`.\n",
    "\n",
    "The syntax for printing the value of a variable `x` is:\n",
    "> print(x)"
   ]
  },
  {
   "cell_type": "code",
   "execution_count": 6,
   "id": "6f4974ec",
   "metadata": {},
   "outputs": [
    {
     "name": "stdout",
     "output_type": "stream",
     "text": [
      "7\n"
     ]
    }
   ],
   "source": [
    "# Print the value of x using the print() function\n",
    "\n",
    "print(x)"
   ]
  },
  {
   "cell_type": "code",
   "execution_count": 7,
   "id": "b1897d36",
   "metadata": {},
   "outputs": [
    {
     "name": "stdout",
     "output_type": "stream",
     "text": [
      "Green\n"
     ]
    }
   ],
   "source": [
    "# Exercise: Print the value of y\n",
    "\n",
    "print(y)"
   ]
  },
  {
   "cell_type": "markdown",
   "id": "fc32165f",
   "metadata": {},
   "source": [
    "Lots of other functions are available in python - [here's a list!](https://www.w3schools.com/python/python_ref_functions.asp)\n",
    "\n",
    "For example, we can use the `type()` function to return the data type of `x`.\n",
    "\n",
    "The syntax for returning the type of a variable `x` is:\n",
    "> type(x)"
   ]
  },
  {
   "cell_type": "code",
   "execution_count": 8,
   "id": "a18dd76d",
   "metadata": {},
   "outputs": [
    {
     "data": {
      "text/plain": [
       "int"
      ]
     },
     "execution_count": 8,
     "metadata": {},
     "output_type": "execute_result"
    }
   ],
   "source": [
    "# Return the type of x\n",
    "\n",
    "type(x)"
   ]
  },
  {
   "cell_type": "markdown",
   "id": "a9d92d1a",
   "metadata": {},
   "source": [
    "Python has a number of built-in data types (which includes):\n",
    "\n",
    "| Description | Type | Example |\n",
    "|---|---|---|\n",
    "| Text Type | `str` | `'hello'` |\n",
    "| Numeric Type | `int` `float` | `3`,`3.14` |\n",
    "| Sequence Type | `list` | `[0,1,2,3]` |\n",
    "| Mapping Type | `dict` | `{name: 'Bertie', age: 7}` |\n",
    "| Boolean Type | `bool` | `True`, `False` |\n"
   ]
  },
  {
   "cell_type": "code",
   "execution_count": 9,
   "id": "b3368892",
   "metadata": {},
   "outputs": [
    {
     "data": {
      "text/plain": [
       "float"
      ]
     },
     "execution_count": 9,
     "metadata": {},
     "output_type": "execute_result"
    }
   ],
   "source": [
    "# Exercise: Print the types of y and z\n",
    "\n",
    "type(z)"
   ]
  },
  {
   "cell_type": "markdown",
   "id": "28e3d1db",
   "metadata": {},
   "source": [
    "When working with numeric type data, we can use mathematical operators: `+` addition, `-` subtraction, `*` multiplication, `/` division."
   ]
  },
  {
   "cell_type": "code",
   "execution_count": 10,
   "id": "f54f97f5",
   "metadata": {},
   "outputs": [
    {
     "name": "stdout",
     "output_type": "stream",
     "text": [
      "x + z =  10.14\n",
      "x - z =  3.86\n",
      "x * z =  21.98\n",
      "x / z =  2.229299363057325\n"
     ]
    }
   ],
   "source": [
    "# Print the value of x + z, x - z, x * z, x / z\n",
    "\n",
    "print('x + z = ', x + z)\n",
    "print('x - z = ', x - z)\n",
    "print('x * z = ', x * z)\n",
    "print('x / z = ', x / z)"
   ]
  },
  {
   "cell_type": "markdown",
   "id": "15b0a927",
   "metadata": {},
   "source": [
    "We can also use `+` concatenate to combine strings and `*` to concatenate multiple times.\n",
    "\n",
    "The syntax for concatenating strings is:\n",
    "> 'a' + 'b'\n",
    "\n",
    "The syntax for multiplying a string by an integer is:\n",
    "> 'a' * 3"
   ]
  },
  {
   "cell_type": "code",
   "execution_count": 12,
   "id": "e864b372",
   "metadata": {},
   "outputs": [
    {
     "name": "stdout",
     "output_type": "stream",
     "text": [
      "Hello Subeksha\n"
     ]
    }
   ],
   "source": [
    "# Exercise: Update the variable my_name in the code below\n",
    "\n",
    "my_name = 'Subeksha'\n",
    "greeting = 'Hello'\n",
    "\n",
    "print(greeting + ' ' + my_name)"
   ]
  },
  {
   "cell_type": "code",
   "execution_count": 12,
   "id": "a3d91d3c",
   "metadata": {},
   "outputs": [],
   "source": [
    "# Exercise: Greet a police officer by multiplying 'Hello' by 3\n",
    "\n",
    "usual_greeting = 'Hello '\n",
    "police_officers_greeing = ''"
   ]
  },
  {
   "cell_type": "markdown",
   "id": "046d5e3c",
   "metadata": {},
   "source": [
    "#### Lists\n",
    "\n",
    "Lists are sequences used to store multiple items in a single variable."
   ]
  },
  {
   "cell_type": "markdown",
   "id": "4cb197ce",
   "metadata": {},
   "source": [
    "We can call each item in the list using indexing. The first item has index `[0]`, the second has index `[1]` etc.  "
   ]
  },
  {
   "cell_type": "code",
   "execution_count": 24,
   "id": "3c2c7cb7",
   "metadata": {},
   "outputs": [],
   "source": [
    "# Define a variable list_x with a value of [7, 6, 5, 4, 3, 2, 1, 'Blast Off!']\n",
    "\n",
    "list_x = [7, 6, 5, 4, 3, 2, 1, 'Blast Off!']"
   ]
  },
  {
   "cell_type": "code",
   "execution_count": 25,
   "id": "27a3fd86",
   "metadata": {},
   "outputs": [
    {
     "ename": "IndexError",
     "evalue": "list index out of range",
     "output_type": "error",
     "traceback": [
      "\u001b[1;31m---------------------------------------------------------------------------\u001b[0m",
      "\u001b[1;31mIndexError\u001b[0m                                Traceback (most recent call last)",
      "\u001b[1;32m<ipython-input-25-16c1c7dfec88>\u001b[0m in \u001b[0;36m<module>\u001b[1;34m\u001b[0m\n\u001b[0;32m      1\u001b[0m \u001b[1;31m# Print the value of the first item of list_x\u001b[0m\u001b[1;33m\u001b[0m\u001b[1;33m\u001b[0m\u001b[1;33m\u001b[0m\u001b[0m\n\u001b[0;32m      2\u001b[0m \u001b[1;33m\u001b[0m\u001b[0m\n\u001b[1;32m----> 3\u001b[1;33m \u001b[0mprint\u001b[0m\u001b[1;33m(\u001b[0m\u001b[0mlist_x\u001b[0m\u001b[1;33m[\u001b[0m\u001b[1;36m8\u001b[0m\u001b[1;33m]\u001b[0m\u001b[1;33m)\u001b[0m\u001b[1;33m\u001b[0m\u001b[1;33m\u001b[0m\u001b[0m\n\u001b[0m",
      "\u001b[1;31mIndexError\u001b[0m: list index out of range"
     ]
    }
   ],
   "source": [
    "# Print the value of the first item of list_x\n",
    "\n",
    "print(list_x[8])"
   ]
  },
  {
   "cell_type": "code",
   "execution_count": 17,
   "id": "bfb14d1f",
   "metadata": {},
   "outputs": [
    {
     "name": "stdout",
     "output_type": "stream",
     "text": [
      "1\n"
     ]
    }
   ],
   "source": [
    "# Exercise: Print the value of the last item of list_x using index [-1]\n",
    "# (this is why the first item has index [0])\n",
    "\n",
    "print(list_x[-2])"
   ]
  },
  {
   "cell_type": "markdown",
   "id": "8fc54ae4",
   "metadata": {},
   "source": [
    "We can use a `for` loop to iterate through the items in a list.\n",
    "\n",
    "The syntax for using a for loop is:\n",
    "> <span style=\"color:green;font-weight:bold\">for</span> item <span style=\"color:green;font-weight:bold\">in</span> list:<br>\n",
    "&nbsp;&nbsp;&nbsp;&nbsp;do_something()"
   ]
  },
  {
   "cell_type": "code",
   "execution_count": 35,
   "id": "8a3b7cb1",
   "metadata": {},
   "outputs": [
    {
     "name": "stdout",
     "output_type": "stream",
     "text": [
      "7 ...\n",
      "6 ...\n",
      "5 ...\n",
      "4 ...\n",
      "3 ...\n",
      "2 ...\n",
      "1 ...\n",
      "Blast Off! ...\n"
     ]
    }
   ],
   "source": [
    "# Print each item of list_x using a for loop\n",
    "\n",
    "for item in list_x:\n",
    "    print(item,'...')"
   ]
  },
  {
   "cell_type": "markdown",
   "id": "0a8e612a",
   "metadata": {},
   "source": [
    "#### Dictionaries\n",
    "\n",
    "Dictionaries are mappings used to store data in *key:value* pairs. "
   ]
  },
  {
   "cell_type": "code",
   "execution_count": 23,
   "id": "c1096a05",
   "metadata": {},
   "outputs": [],
   "source": [
    "# Define a dictionary called dict_vars in which the following values are assigned\n",
    "#     x : 7\n",
    "#     y : 'Green'\n",
    "#     z : 3.14\n",
    "#     list_x : [7, 6, 5, 4, 3, 2, 1, 'Blast Off!']\n",
    "\n",
    "dict_vars = {\n",
    "     'x' : 7,\n",
    "     'y' : 'Green',\n",
    "     'z' : 3.14,\n",
    "     'list_x' : [7, 6, 5, 4, 3, 2, 1, 'Blast Off!']\n",
    "}"
   ]
  },
  {
   "cell_type": "code",
   "execution_count": 20,
   "id": "fcf096fc",
   "metadata": {},
   "outputs": [
    {
     "name": "stdout",
     "output_type": "stream",
     "text": [
      "[7, 6, 5, 4, 3, 2, 1, 'Blast Off!']\n"
     ]
    }
   ],
   "source": [
    "# Print the value of the dictionary item 'list_x'\n",
    "\n",
    "print(dict_vars['list_x'])"
   ]
  },
  {
   "cell_type": "markdown",
   "id": "5bf4b457",
   "metadata": {},
   "source": [
    "Dictionaries are useful for keeping track of mappings. Later in the course, we will use dictionaries for inputting options into functions."
   ]
  },
  {
   "cell_type": "markdown",
   "id": "2f7f94ac",
   "metadata": {},
   "source": [
    "---\n",
    "\n",
    "<a id='error'></a>\n",
    "\n",
    "## Error Debugging\n",
    "[Back to Contents](#Contents)\n",
    "\n",
    "\n",
    "When working with python, it is normal to get errors. In fact, when you get an error, python will try to be helpful and give you an idea of where the error is and what *type* of error it is.\n",
    "\n",
    "There are three types of error in python:"
   ]
  },
  {
   "attachments": {
    "Errors.PNG": {
     "image/png": "[encoded data removed]"
    }
   },
   "cell_type": "markdown",
   "id": "3eb56f44",
   "metadata": {},
   "source": [
    "![Errors.PNG](attachment:Errors.PNG)"
   ]
  },
  {
   "cell_type": "markdown",
   "id": "e2580c60",
   "metadata": {},
   "source": [
    "A **Syntax Error** is an error in compiling the code: your code doesn't make sense! In this case, python won't be able to compile and run the code but it will be able to tell you (roughly) where the problem is."
   ]
  },
  {
   "cell_type": "code",
   "execution_count": 26,
   "id": "3f6c77db",
   "metadata": {},
   "outputs": [
    {
     "name": "stdout",
     "output_type": "stream",
     "text": [
      "Hello World\n"
     ]
    }
   ],
   "source": [
    "# Modify the following code to resolve the syntax error - syntax errors are caused by code that doesn't make sense \n",
    "# such as missing parantheses, spelling mistakes or quotations\n",
    "\n",
    "print('Hello World')\n",
    "\n",
    "# Why was the code broken?\n",
    "## \n",
    "## \n",
    "# How did you fix it?\n",
    "## \n",
    "## "
   ]
  },
  {
   "cell_type": "markdown",
   "id": "ec0baf07",
   "metadata": {},
   "source": [
    "In this example, I missed the quotation marks around `Hello World` and got a **Syntax Error**. Python told me (roughly) where the error occured using a little carrot.\n",
    "\n",
    "Common causes of a syntax error are:\n",
    "- missing quotation marks\n",
    "- missing brackets"
   ]
  },
  {
   "cell_type": "markdown",
   "id": "8a3eadb4",
   "metadata": {},
   "source": [
    "A **Runtime Error** is an error in running the code: the code makes sense but doesn't work!\n",
    "\n",
    "In this case, Python will try to give you more detail about what the problem is and where it is. Common runtime errors are:\n",
    "- **Name Errors**\n",
    "- **Type Errors**\n",
    "- **Key Errors**"
   ]
  },
  {
   "cell_type": "code",
   "execution_count": 29,
   "id": "83943522",
   "metadata": {},
   "outputs": [
    {
     "name": "stdout",
     "output_type": "stream",
     "text": [
      "Jenny has three cats\n"
     ]
    }
   ],
   "source": [
    "# Modify the following code to resolve the name error - name errors are caused by trying to use things that don't exist\n",
    "\n",
    "string_value = 'Jenny has three cats'\n",
    "print(string_value)\n",
    "\n",
    "# Why was the code broken?\n",
    "## \n",
    "## \n",
    "# How did you fix it?\n",
    "## \n",
    "## "
   ]
  },
  {
   "cell_type": "markdown",
   "id": "a8290830",
   "metadata": {},
   "source": [
    "In this example, I misspelled the name of my variable `string_value` in the `print()` function and got a **Name Error**. Python told me where the error occured using an arrow.\n",
    "\n",
    "Common causes of a name error are typos!"
   ]
  },
  {
   "cell_type": "code",
   "execution_count": 32,
   "id": "cfef6379",
   "metadata": {},
   "outputs": [
    {
     "name": "stdout",
     "output_type": "stream",
     "text": [
      "15\n"
     ]
    }
   ],
   "source": [
    "# Modify the following code to resolve the type error - type errors are caused by trying to use the wrong data type\n",
    "\n",
    "x = 10\n",
    "y = 5\n",
    "print(x+y)\n",
    "\n",
    "# Why was the code broken?\n",
    "## \n",
    "## \n",
    "# How did you fix it?\n",
    "## \n",
    "## "
   ]
  },
  {
   "cell_type": "markdown",
   "id": "9164401b",
   "metadata": {},
   "source": [
    "In this example, I tried to add an integer to a string and got a **Type Error**. Python told me where the error occured using a little arrow.\n",
    "\n",
    "Common causes of a type error are:\n",
    "- getting confused over data types\n",
    "- using the wrong function"
   ]
  },
  {
   "cell_type": "code",
   "execution_count": 35,
   "id": "39634864",
   "metadata": {},
   "outputs": [
    {
     "name": "stdout",
     "output_type": "stream",
     "text": [
      "32\n"
     ]
    }
   ],
   "source": [
    "# Modify the following code to resolve the index error - index errors are caused by trying to reference items that don't exist\n",
    "\n",
    "daily_temperature = [20,17,18,34,32]\n",
    "\n",
    "print(daily_temperature[4])\n",
    "\n",
    "# Why was the code broken?\n",
    "## \n",
    "## \n",
    "# How did you fix it?\n",
    "## \n",
    "## "
   ]
  },
  {
   "cell_type": "code",
   "execution_count": 38,
   "id": "8cbd5d07",
   "metadata": {},
   "outputs": [
    {
     "name": "stdout",
     "output_type": "stream",
     "text": [
      "22\n"
     ]
    }
   ],
   "source": [
    "# Modify the following code to resolve the key error - key errors are caused by trying to reference items that don't exist\n",
    "\n",
    "daily_temperature = {\n",
    "    'Monday':20,\n",
    "    'Tuesday':17,\n",
    "    'Wednesday':18,\n",
    "    'Thursday':34,\n",
    "    'Friday':22\n",
    "}\n",
    "\n",
    "print(daily_temperature['Friday'])\n",
    "\n",
    "# Why was the code broken?\n",
    "## \n",
    "## \n",
    "# How did you fix it?\n",
    "## \n",
    "## "
   ]
  },
  {
   "cell_type": "markdown",
   "id": "1c16019a",
   "metadata": {},
   "source": [
    "In these examples, I tried to reference a list item that doesn't exist and got a **Index Error** or **Key Error**. Python told me where the error occured using a little arrow.\n",
    "\n",
    "Common causes of a type error are:\n",
    "- typos\n",
    "- using the wrong index"
   ]
  },
  {
   "cell_type": "markdown",
   "id": "7702daea",
   "metadata": {},
   "source": [
    "**There are also other errors which don't come up so often.** In these cases, you may need to research the error to find out what it means and how to solve it."
   ]
  },
  {
   "cell_type": "code",
   "execution_count": null,
   "id": "a8814809",
   "metadata": {},
   "outputs": [],
   "source": [
    "# Exercise: Modify the following code to resolve the error\n",
    "\n",
    "countdown_list = [5, 4, 3, 2, 1, 0]\n",
    "\n",
    "for item in countdown_list:\n",
    "    print(countdown_list[0]/item)\n",
    "\n",
    "# Why was the code broken?\n",
    "## \n",
    "## \n",
    "# How did you fix it?\n",
    "## \n",
    "## "
   ]
  },
  {
   "cell_type": "markdown",
   "id": "fc2799d6",
   "metadata": {},
   "source": [
    "A **Semantic Error** is an error in the *result* of the code. The code runs fine, but the result is not what you wanted it to be.\n",
    "\n",
    "This is usually the trickiest to figure out, because the underlying logic is incorrect."
   ]
  },
  {
   "cell_type": "code",
   "execution_count": 41,
   "id": "224d79c2",
   "metadata": {},
   "outputs": [
    {
     "name": "stdout",
     "output_type": "stream",
     "text": [
      "15\n"
     ]
    }
   ],
   "source": [
    "# Modify the following code to resolve the semantic error - semantic errors are when the code works but does the wrong thing\n",
    "\n",
    "## Add 10 and 5 to get 15\n",
    "x = 10\n",
    "y = 5\n",
    "print(x+y)"
   ]
  },
  {
   "cell_type": "markdown",
   "id": "6cd7dad2",
   "metadata": {},
   "source": [
    "In this example, I tried to calculate `10 + 5` but I typed `'10' + '5'`. Python didn't find an error because the code makes sense - it's just giving the wrong answer! To solve this error, I need to dig into the logic and figure out where I went wrong.\n",
    "\n",
    "Because python doesn't know about Semantic Errors, we should check as we go that the code is doing what we expect it to. We can also get people to peer review our code.\n",
    "\n",
    "When writing a lot of code, comments can help you (and peers) to find and solve semantic errors."
   ]
  }
 ],
 "metadata": {
  "kernelspec": {
   "display_name": "Python 3",
   "language": "python",
   "name": "python3"
  },
  "language_info": {
   "codemirror_mode": {
    "name": "ipython",
    "version": 3
   },
   "file_extension": ".py",
   "mimetype": "text/x-python",
   "name": "python",
   "nbconvert_exporter": "python",
   "pygments_lexer": "ipython3",
   "version": "3.8.8"
  }
 },
 "nbformat": 4,
 "nbformat_minor": 5
}
